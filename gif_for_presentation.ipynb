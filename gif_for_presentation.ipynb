{
 "cells": [
  {
   "cell_type": "code",
   "execution_count": null,
   "id": "2e46ef8f",
   "metadata": {},
   "outputs": [],
   "source": [
    "\n",
    "import pyvista as pv\n",
    "from simulator.quaternion import Quaternion\n",
    "from simulator.orientation import turn_plane\n"
   ]
  },
  {
   "cell_type": "code",
   "execution_count": 65,
   "id": "c756e4ad",
   "metadata": {},
   "outputs": [
    {
     "name": "stdout",
     "output_type": "stream",
     "text": [
      "GIF створено.\n"
     ]
    }
   ],
   "source": [
    "def build_cats(steps):\n",
    "    obj = pv.read(\"./objects/cat.obj\")\n",
    "    obj = obj.rotate_x(90)\n",
    "    obj = obj.translate([0,0,-45])\n",
    "    obj = obj.scale([0.03, 0.03, 0.03])\n",
    "\n",
    "    plotter = pv.Plotter(off_screen=False, window_size=[700, 600])\n",
    "\n",
    "    obj2 = obj.copy()\n",
    "    obj3 = obj.copy()\n",
    "    obj2 = obj2.translate([0,0,15])\n",
    "    obj3 = obj3.translate([0,15,0])\n",
    "\n",
    "    axes = pv.Axes(show_actor=True)\n",
    "    axes.axes_actor.total_length = 50\n",
    "    axes.axes_actor.cone_radius = 0.2\n",
    "    axes.axes_actor.x_axis_shaft_properties.opacity = 0\n",
    "    axes.axes_actor.x_axis_tip_properties.opacity = 0\n",
    "    axes.axes_actor.x_label = ''\n",
    "    axes.axes_actor.y_axis_shaft_properties.color = (0, 255, 0)\n",
    "    axes.axes_actor.y_axis_tip_properties.color = (0, 255, 0)\n",
    "    axes.axes_actor.tip_length = 0.14\n",
    "    axes.axes_actor.shaft_length = 0.86\n",
    "    z_label = axes.axes_actor.GetZAxisCaptionActor2D()\n",
    "    z_label.GetCaptionTextProperty().SetColor(0, 0, 0)\n",
    "    y_label = axes.axes_actor.GetYAxisCaptionActor2D()\n",
    "    y_label.GetCaptionTextProperty().SetColor(0, 0, 0)\n",
    "    L = 48\n",
    "    y_axis = pv.Line(pointa=(0, -L, 0), pointb=(0, L, 0))\n",
    "    z_axis = pv.Line(pointa=(0, 0, -L), pointb=(0, 0, L))\n",
    "    plotter.add_mesh(y_axis, color='green', line_width=2, label='Y')\n",
    "    plotter.add_mesh(z_axis, color='blue', line_width=2, label='Z')\n",
    "    plotter.add_actor(axes.axes_actor)\n",
    "    plotter.add_mesh(obj, color=\"silver\")\n",
    "    plotter.add_mesh(obj2, color=\"blue\")\n",
    "    plotter.add_mesh(obj3, color=\"green\")\n",
    "\n",
    "    camera_position = [\n",
    "      (135, 35, 40),\n",
    "      (0, 9, 10),\n",
    "      (0, 0, 1)\n",
    "    ]\n",
    "    plotter.camera_position = camera_position\n",
    "\n",
    "    plotter.camera.zoom(1.4)\n",
    "\n",
    "    plotter.open_gif(\"./simulations/cat.gif\")\n",
    "\n",
    "    quat = Quaternion.from_angles(0, 10, 10)\n",
    "    quat2 = Quaternion.from_angles(0, 0, 10)\n",
    "    quat3 = Quaternion.from_angles(0, 10, 0)\n",
    "\n",
    "    for i in range(steps):\n",
    "        obj.points = turn_plane(obj.points, quat)\n",
    "        obj2.points = turn_plane(obj2.points, quat2)\n",
    "        obj3.points = turn_plane(obj3.points, quat3)\n",
    "        plotter.write_frame()\n",
    "\n",
    "    plotter.close()\n",
    "\n",
    "    print(\"GIF створено.\")\n",
    "build_cats(72)"
   ]
  },
  {
   "cell_type": "code",
   "execution_count": null,
   "id": "5f486306",
   "metadata": {},
   "outputs": [
    {
     "name": "stdout",
     "output_type": "stream",
     "text": [
      "GIF створено.\n"
     ]
    }
   ],
   "source": [
    "def build_plane_go_up_down(steps):\n",
    "    plane = pv.read(\"./objects/airplane_big.obj\")\n",
    "    plane = plane.scale([0.03, 0.03, 0.03])\n",
    "\n",
    "    plotter = pv.Plotter(off_screen=False, window_size=[700, 600])\n",
    "    plotter.add_mesh(plane, color=\"orange\")\n",
    "    plotter.open_gif(\"./simulations/plane_go_up_down.gif\")\n",
    "\n",
    "    quat = Quaternion.from_angles(0, 2, 0)\n",
    "    quat2 = Quaternion.from_angles(0, -2, 0)\n",
    "    for i in range(steps):\n",
    "        if i >= steps/2:\n",
    "          plane.points = turn_plane(plane.points, quat2)\n",
    "        else:\n",
    "          plane.points = turn_plane(plane.points, quat)\n",
    "\n",
    "        plotter.write_frame()\n",
    "\n",
    "    plotter.close()\n",
    "\n",
    "    print(\"GIF створено.\")\n",
    "build_plane_go_up_down(12)"
   ]
  },
  {
   "cell_type": "code",
   "execution_count": null,
   "id": "cb3e1e9c",
   "metadata": {},
   "outputs": [],
   "source": []
  }
 ],
 "metadata": {
  "kernelspec": {
   "display_name": "Python 3",
   "language": "python",
   "name": "python3"
  },
  "language_info": {
   "codemirror_mode": {
    "name": "ipython",
    "version": 3
   },
   "file_extension": ".py",
   "mimetype": "text/x-python",
   "name": "python",
   "nbconvert_exporter": "python",
   "pygments_lexer": "ipython3",
   "version": "3.11.9"
  }
 },
 "nbformat": 4,
 "nbformat_minor": 5
}
